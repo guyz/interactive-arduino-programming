{
 "metadata": {
  "name": "",
  "signature": "sha256:d169ad8bfe9b821336a139fdfe9867a135b6939137b2a8de36207222001a4273"
 },
 "nbformat": 3,
 "nbformat_minor": 0,
 "worksheets": [
  {
   "cells": [
    {
     "cell_type": "code",
     "collapsed": false,
     "input": [
      "'''\n",
      "Created on Nov 26, 2014\n",
      "\n",
      "@author: GuyZ\n",
      "'''\n",
      "\n",
      "'''\n",
      "TODOs:\n",
      "- support floats?\n",
      "- implement -run-on-device- (1. parses python --> arduino, 2. burns the program to the board\n",
      " and resets the instruction counter to 0)\n",
      "- important libs\n",
      "- better exception handling\n",
      "- in interpreter: fix rand, add INPUT_PULLUP\n",
      "'''\n",
      "\n",
      "import serial\n",
      "import time\n",
      "\n",
      "ERROR = -1\n",
      "LOW = 'LOW'\n",
      "HIGH = 'HIGH'\n",
      "INPUT = 'INPUT'\n",
      "OUTPUT = 'OUTPUT'\n",
      "true = 'true'\n",
      "false = 'false'\n",
      "\n",
      "class Iduino(object):\n",
      "    '''\n",
      "    classdocs\n",
      "    '''\n",
      "\n",
      "\n",
      "    def __init__(self, port, speed=115200):\n",
      "        self._port = port\n",
      "        self._speed = speed\n",
      "        self._ser = serial.Serial(port,speed)\n",
      "        if self._ser.isOpen():\n",
      "            self._ser.close()\n",
      "        self._ser.open()\n",
      "\n",
      "    ### Arduino methods\n",
      "    \n",
      "    def abs(self, n):\n",
      "        try:\n",
      "            return int(self.__execFunc(self.abs, n))\n",
      "        except:\n",
      "            return ERROR\n",
      "    \n",
      "    def analogRead(self, i):\n",
      "        try:\n",
      "            return int(self.__execFunc(self.analogRead, i))\n",
      "        except:\n",
      "            return ERROR\n",
      "    \n",
      "    def analogWrite(self, i, v):\n",
      "        self.__execFunc(self.analogWrite, i, v)\n",
      "    \n",
      "    def delay(self, t):\n",
      "        self.__execFunc(self.delay, t)\n",
      "    \n",
      "    def digitalRead(self, i):\n",
      "        try:\n",
      "            return int(self.__execFunc(self.digitalRead, i))\n",
      "        except:\n",
      "            return ERROR\n",
      "    \n",
      "    def digitalWrite(self, i, v):\n",
      "        self.__execFunc(self.digitalWrite, i, v)\n",
      "    \n",
      "    def max(self, n, m):\n",
      "        try:\n",
      "            return int(self.__execFunc(self.max, n, m))\n",
      "        except:\n",
      "            return ERROR\n",
      "    \n",
      "    def millis(self):\n",
      "        try:\n",
      "            return long(self.__execFunc(self.millis))\n",
      "        except:\n",
      "            return ERROR\n",
      "    \n",
      "    def min(self, n, m):\n",
      "        try:\n",
      "            return int(self.__execFunc(self.min, n, m))\n",
      "        except:\n",
      "            return ERROR\n",
      "    \n",
      "    def noTone(self, i):\n",
      "        self.__execFunc(self.noTone, i)\n",
      "    \n",
      "    def rand(self, *args): # TODO: needs to be fixed in the interpreter\n",
      "        try:\n",
      "            if (len(args) == 1):\n",
      "                return int(self.__execFunc(self.rand, args[0]))\n",
      "            else:\n",
      "                return int(self.__execFunc(self.rand, args[0], args[1]))\n",
      "        except:\n",
      "            return ERROR\n",
      "    \n",
      "    def pinMode(self, i, v):\n",
      "        self.__execFunc(self.pinMode, i, v)\n",
      "    \n",
      "    def tone(self, i, freq):\n",
      "        self.__execFunc(self.tone, i, freq)\n",
      "    \n",
      "#     def print(self):\n",
      "#         pass\n",
      "        \n",
      "#     servo?.attach, servo?.write # TODO: define as an object\n",
      "\n",
      "    # uploads and runs a program\n",
      "    def upload(self, prog):\n",
      "        self._ser.flushInput()\n",
      "        # c, S commands ensure the board is ready to\n",
      "        # accept a program (this is a workaround)\n",
      "        self._ser.write('c\\r\\n')\n",
      "#         time.sleep(0.1)\n",
      "        self._ser.write('S\\r\\n')\n",
      "#         time.sleep(0.1)\n",
      "        self._ser.write('prog\\r\\n')\n",
      "        \n",
      "        if prog.startswith('\\n'): prog = prog[1:]\n",
      "        if not prog.endswith('\\n'): prog = prog + '\\n'\n",
      "        prog = prog.replace('\\n','\\r\\n')\n",
      "        \n",
      "        self._ser.write(prog)\n",
      "        self._ser.write('end\\r\\n')\n",
      "        self._ser.write('save\\r\\n')\n",
      "#         if (autorun):\n",
      "#             self._ser.write('autorun\\r\\n')\n",
      "        self._ser.write('go\\r\\n')\n",
      "        \n",
      "    \n",
      "    def __execFunc(self, func, *args):\n",
      "        f = func.__name__ + '(' \n",
      "        for v in args:\n",
      "            f = f + str(v) + ','\n",
      "        f = f[:-1] + ')\\r\\n'\n",
      "        \n",
      "        self._ser.flushInput()\n",
      "        self._ser.write(f)\n",
      "        self._ser.readline() # echo\n",
      "        return self._ser.readline().strip( \"\\r\\n\" )\n",
      "            \n",
      "    "
     ],
     "language": "python",
     "metadata": {},
     "outputs": [],
     "prompt_number": 1
    },
    {
     "cell_type": "heading",
     "level": 2,
     "metadata": {},
     "source": [
      "Set up"
     ]
    },
    {
     "cell_type": "code",
     "collapsed": false,
     "input": [
      "# Hardware Serial\n",
      "# PORT = '/dev/tty.usbserial-A900ce0g'\n",
      "# a = Iduino(PORT)\n",
      "\n",
      "# FTDI (Software Serial)\n",
      "# PORT = '/dev/tty.usbserial-FTH9JLQX'\n",
      "# SPEED = 38400\n",
      "# a = Iduino(PORT, SPEED)\n",
      "\n",
      "# BlueTooth\n",
      "PORT = '/dev/tty.HC-05-DevB'\n",
      "SPEED = 38400\n",
      "a = Iduino(PORT, SPEED)"
     ],
     "language": "python",
     "metadata": {},
     "outputs": [],
     "prompt_number": 2
    },
    {
     "cell_type": "heading",
     "level": 2,
     "metadata": {},
     "source": [
      "Simple Blink program"
     ]
    },
    {
     "cell_type": "code",
     "collapsed": false,
     "input": [
      "for i in range(10):\n",
      "    a.digitalWrite(13, HIGH)\n",
      "    time.sleep(1)\n",
      "    a.digitalWrite(13, LOW)\n",
      "    time.sleep(0.3)"
     ],
     "language": "python",
     "metadata": {},
     "outputs": [],
     "prompt_number": 3
    },
    {
     "cell_type": "heading",
     "level": 2,
     "metadata": {},
     "source": [
      "Servo Sweep"
     ]
    },
    {
     "cell_type": "code",
     "collapsed": false,
     "input": [],
     "language": "python",
     "metadata": {},
     "outputs": [],
     "prompt_number": 8
    },
    {
     "cell_type": "heading",
     "level": 2,
     "metadata": {},
     "source": [
      "Analog Inputs"
     ]
    },
    {
     "cell_type": "heading",
     "level": 3,
     "metadata": {},
     "source": [
      "Read"
     ]
    },
    {
     "cell_type": "code",
     "collapsed": false,
     "input": [
      "import numpy as np\n",
      "\n",
      "n = 1000\n",
      "n_pins = 6\n",
      "dt = 50\n",
      "pins = np.arange(n_pins)\n",
      "Y = np.zeros( (n, n_pins) )\n",
      "\n",
      "for i in range(n):\n",
      "    for pin in pins:\n",
      "        Y[i, pin] = a.analogRead(pin)\n",
      "    a.delay(dt)\n"
     ],
     "language": "python",
     "metadata": {},
     "outputs": [],
     "prompt_number": 9
    },
    {
     "cell_type": "heading",
     "level": 3,
     "metadata": {},
     "source": [
      "Analyze"
     ]
    },
    {
     "cell_type": "code",
     "collapsed": false,
     "input": [
      "%matplotlib inline\n",
      "import matplotlib.pyplot as plt\n",
      "x = np.linspace(0, float(dt)/1000*n, n)\n",
      "\n",
      "plt.plot(x, Y)\n",
      "plt.legend(['Pin %d' % i for i in pins])\n",
      "plt.show()\n",
      "\n",
      "y = np.average(Y,1)\n",
      "# y = Y[:,0]\n",
      "\n",
      "nn, bins, patches = plt.hist(y, 50, normed=1, histtype='stepfilled')\n"
     ],
     "language": "python",
     "metadata": {},
     "outputs": [
      {
       "metadata": {},
       "output_type": "display_data",
       "png": "[encoded data removed]",
       "text": [
        "<matplotlib.figure.Figure at 0x1137019d0>"
       ]
      },
      {
       "metadata": {},
       "output_type": "display_data",
       "png": "[encoded data removed]",
       "text": [
        "<matplotlib.figure.Figure at 0x113f13850>"
       ]
      }
     ],
     "prompt_number": 57
    },
    {
     "cell_type": "heading",
     "level": 2,
     "metadata": {},
     "source": [
      "Uploading and running a program (Sample Blink program)"
     ]
    },
    {
     "cell_type": "code",
     "collapsed": false,
     "input": [
      "prog = '''\n",
      "\n",
      "pinMode(13, OUTPUT);\n",
      "for(;;) {\n",
      "    digitalWrite(13, HIGH);\n",
      "    delay(400);\n",
      "    digitalWrite(13, LOW);\n",
      "    delay(200);\n",
      "}\n",
      "'''\n",
      "a.upload(prog)\n",
      "\n",
      "print a._ser.readline()\n",
      "print a._ser.readline()\n",
      "print a._ser.readline()\n",
      "print a._ser.readline()\n",
      "print a._ser.readline()\n",
      "print a._ser.readline()"
     ],
     "language": "python",
     "metadata": {},
     "outputs": [
      {
       "metadata": {},
       "output_type": "pyout",
       "prompt_number": 3,
       "text": [
        "'for(;;) {\\r\\n'"
       ]
      }
     ],
     "prompt_number": 3
    },
    {
     "cell_type": "code",
     "collapsed": false,
     "input": [],
     "language": "python",
     "metadata": {},
     "outputs": []
    }
   ],
   "metadata": {}
  }
 ]
}